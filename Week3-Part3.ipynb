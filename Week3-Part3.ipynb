{
 "cells": [
  {
   "cell_type": "code",
   "execution_count": null,
   "id": "d86f8bed",
   "metadata": {},
   "outputs": [],
   "source": []
  },
  {
   "cell_type": "code",
   "execution_count": null,
   "id": "79f4e890",
   "metadata": {},
   "outputs": [],
   "source": []
  },
  {
   "cell_type": "code",
   "execution_count": null,
   "id": "8fe516e4",
   "metadata": {},
   "outputs": [],
   "source": [
    "from sklearn.cluster import KMeans\n",
    "\n",
    "import numpy as np \n",
    "import pandas as pd\n",
    "pd.set_option(\"display.max_columns\", None)\n",
    "pd.set_option(\"display.max_rows\", None)\n",
    "\n",
    "# Convert an address into latitude and longitude values\n",
    "from geopy.geocoders import Nominatim \n",
    "\n",
    "# Map rendering library\n",
    "import folium \n",
    "\n",
    "import requests \n",
    "import json \n",
    "\n",
    "# Library to parse HTML and XML documents\n",
    "from bs4 import BeautifulSoup \n",
    "\n",
    "# Transform JSON file into a pandas dataframe\n",
    "from pandas.io.json import json_normalize "
   ]
  },
  {
   "cell_type": "code",
   "execution_count": null,
   "id": "57ed4925",
   "metadata": {},
   "outputs": [],
   "source": []
  }
 ],
 "metadata": {
  "kernelspec": {
   "display_name": "Python 3",
   "language": "python",
   "name": "python3"
  },
  "language_info": {
   "codemirror_mode": {
    "name": "ipython",
    "version": 3
   },
   "file_extension": ".py",
   "mimetype": "text/x-python",
   "name": "python",
   "nbconvert_exporter": "python",
   "pygments_lexer": "ipython3",
   "version": "3.8.10"
  }
 },
 "nbformat": 4,
 "nbformat_minor": 5
}
