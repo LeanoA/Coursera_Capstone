{
 "cells": [
  {
   "cell_type": "markdown",
   "id": "a12b60ad",
   "metadata": {},
   "source": [
    "# IBM Apliend data science capstone\n",
    "\n",
    "## Segmenting and Clustering Neighborhoods in Toronto\n",
    "### Part 2"
   ]
  },
  {
   "cell_type": "markdown",
   "id": "865fa036",
   "metadata": {},
   "source": [
    "We will convert addresses into their equivalent latitude and longitude values. Also, we will use the Foursquare API to explore neighborhoods in Toronto city.\n",
    "\n",
    "We will use the **explore** function to get the most common venue categories in each neighborhood, and then use this feature to group the neighborhoods into clusters. \n",
    "\n",
    "We will use the _k_-means clustering algorithm to complete this task.\n",
    "\n",
    "Finally, you will use the Folium library to visualize the neighborhoods in Toronto City and their emerging clusters."
   ]
  },
  {
   "cell_type": "code",
   "execution_count": 1,
   "id": "26ffc640",
   "metadata": {},
   "outputs": [],
   "source": [
    "from sklearn.cluster import KMeans\n",
    "\n",
    "import numpy as np \n",
    "import pandas as pd\n",
    "pd.set_option(\"display.max_columns\", None)\n",
    "pd.set_option(\"display.max_rows\", None)\n",
    "\n",
    "# Convert an address into latitude and longitude values\n",
    "from geopy.geocoders import Nominatim \n",
    "\n",
    "# Map rendering library\n",
    "import folium \n",
    "\n",
    "import requests \n",
    "import json \n",
    "\n",
    "# Library to parse HTML and XML documents\n",
    "from bs4 import BeautifulSoup \n",
    "\n",
    "# Transform JSON file into a pandas dataframe\n",
    "from pandas.io.json import json_normalize "
   ]
  },
  {
   "cell_type": "code",
   "execution_count": null,
   "id": "0670a056",
   "metadata": {},
   "outputs": [],
   "source": []
  }
 ],
 "metadata": {
  "kernelspec": {
   "display_name": "Python 3",
   "language": "python",
   "name": "python3"
  },
  "language_info": {
   "codemirror_mode": {
    "name": "ipython",
    "version": 3
   },
   "file_extension": ".py",
   "mimetype": "text/x-python",
   "name": "python",
   "nbconvert_exporter": "python",
   "pygments_lexer": "ipython3",
   "version": "3.8.10"
  }
 },
 "nbformat": 4,
 "nbformat_minor": 5
}
